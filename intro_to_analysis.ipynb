{
 "cells": [
  {
   "cell_type": "markdown",
   "id": "3b4df2d6",
   "metadata": {},
   "source": [
    "# 3 Step Process to Analyzing Your Data (General case)\n",
    "1. Define your goal, why this matters, your target variable, initial hypotheses (write these down)\n",
    "2. Get to know your data: obtain a 10,000 ft view of your data before diving in (write down what you learn/discover)\n",
    "3. Answer your initial hypotheses questions with visuals and statistics (write down takeaways as you go)"
   ]
  },
  {
   "cell_type": "markdown",
   "id": "d5d89553",
   "metadata": {},
   "source": [
    "## Step 1: Define your goal. What's the impact? Who benefits? Why does this matter? \n",
    "- Take *lots* of written or typed notes here. \n",
    "- What, exactly, are you seeking to understand?\n",
    "- Define your target variable. Does one exist in your dataset?\n",
    "- Define your initial hypotheses: literally write them down\n",
    "    - Are the stakeholders hoping to confirm or deny something already? That's a good start.\n",
    "    - What initial hunches do you have? How could you confirm or deny them?\n",
    "    - Are there industry based hunches you can confirm or deny?\n",
    "    - If you have data from your industry, how does your dataset compare?\n",
    "    - Based on the columns you have, do you see anything you *know* you need to look at?\n",
    "- Define your Minimum Viable Product (MVP)\n",
    "    - How do you know when you're done?\n",
    "    - How do you know when you've got something to deliver?\n",
    "    - If something seems interesting but out of scope, add it to your backlog and get back to the heart of the matter"
   ]
  },
  {
   "cell_type": "markdown",
   "id": "12ec9724",
   "metadata": {},
   "source": [
    "### How to Generate Initial Hypotheses  \n",
    "\n",
    "Think and write down your thoughts\n",
    "\n",
    "![](hypothesis_generation.png)"
   ]
  },
  {
   "cell_type": "markdown",
   "id": "b9a1f694",
   "metadata": {},
   "source": [
    "### Defining Your Minimum Viable Product (MVP)\n",
    "\n",
    "The real MVP is producing insight and takeaways stakeholders can use to improve their decision making\n",
    "\n",
    "What would a Minimum Viable Product look like? You likely won't have 6 months to produce answers.\n",
    "\n",
    "![](mvp.png)"
   ]
  },
  {
   "cell_type": "markdown",
   "id": "4a27c5a6",
   "metadata": {},
   "source": [
    "## Step 2: Get to know your data at a high level\n",
    "- *Dump out all your legos and take inventory of what you have*\n",
    "- Take lots of written or typed notes as you move through these steps)\n",
    "- Hunt down a data dictionary that explains what each column of your data is or represents.\n",
    "    - This may mean talking to people\n",
    "    - This may mean having coffee w/ someone from accounting to pick their brain\n",
    "- What does each row represent, specifically? A customer? A household?\n",
    "- Determine if there's any columns needing cleaning or a change in data type\n",
    "- Hunt for any nulls or missing data. Write down how you handle them. There's no one right answer.\n",
    "- What's the distribution of your target variable? What about your most interesting variables?"
   ]
  },
  {
   "cell_type": "markdown",
   "id": "798af51d",
   "metadata": {},
   "source": [
    "![](storytelling.webp)"
   ]
  },
  {
   "cell_type": "markdown",
   "id": "565d7f6a",
   "metadata": {},
   "source": [
    "## Step 3: Answer your initial hypotheses with visuals and statistics\n",
    "- Always write down your takeaways as you learn or reveal them\n",
    "- Use visuals, descriptive stats, and inferential stats to answer your hypotheses\n",
    "- Start with one hypothesis at a time.\n",
    "- Visualize and get stats on the population\n",
    "- Start making subgroups to compare subgroups to the population and subgroups to subgroups\n",
    "- Focus on getting the biggest bang for your buck rather than counting toenails on an ant.\n",
    "\n",
    "![](descriptive-and-inferential-statistics.jpeg)"
   ]
  },
  {
   "cell_type": "markdown",
   "id": "2b9b5b12",
   "metadata": {},
   "source": [
    "### Explore Relationships Between Variables and the Target Variable\n",
    "![](hypothesis.jpeg)"
   ]
  },
  {
   "cell_type": "markdown",
   "id": "510ba8f9",
   "metadata": {},
   "source": [
    "# 3 Step Process to Data Analysis (Specific case with HR Attrition Data)\n",
    "1. Define your goal, why this matters, your target variable, initial hypotheses (write these down)\n",
    "2. Get to know your data: obtain a 10,000 ft view of your data before diving in (write down what you learn/discover)\n",
    "3. Answer your initial hypotheses questions with visuals and statistics (write down takeaways as you go)"
   ]
  },
  {
   "cell_type": "markdown",
   "id": "b310f090",
   "metadata": {},
   "source": [
    "## Step 1 is to define our goal, why it matters, identify target variable, state initial hypotheses\n",
    "- Manager shows up and says \"HR gave us this data and wants to know why people are leaving?\"\n",
    "- Our goal: What are the drivers of attrition? \n",
    "- Why does attrition matter? \n",
    "    - A quick search showed that replacing an employee can cost between 50%-200% of their salar\n",
    "    - Losing skilled employees to the competition\n",
    "    - Costs more to train/replace than keep an employee\n",
    "    - Productivity\n",
    "    - Current team picking up the slack for lost employees\n",
    "    - Snowball effect of attrition\n",
    "    - Maybe the VP of HR gets a bonus if they bring down attrition (coffee + all source intel)\n",
    "- What's our target variable? Attrition itself\n",
    "- What are some interesting variables that you think might drive attrition (initial hypotheses)\n",
    "    - Year since last promotion: what's the relationship between years since last promotion and attrition\n",
    "    - Overtime: what's the relationship between overtime and attrition?\n",
    "    - JobSatisfaction, relationship satisfaction\n",
    "    - Years in role\n",
    "    - Monthly Income\n",
    "    - Marital status or other demographic info\n",
    "\n",
    "- What would a minimally viable product look like? MVP == First Draft, Second draft makes it look like you knew what you were doing all along\n",
    "    - What target rate are we hitting with churn? What's the \n",
    "    - Get an answer to the biggest story or two?\n",
    "    - Defining a deliverable: \n",
    "        - could be as simple as an email with a few recommendations\n",
    "        - could be a slide show\n",
    "        - could be ML model that we deliver to the engineering team to deploy live\n",
    "    - We have survey data about job satisfaction and work/life balance - should we believe those surveys?\n",
    "    \n",
    "- Source your data [https://www.kaggle.com/datasets/pavansubhasht/ibm-hr-analytics-attrition-dataset](https://www.kaggle.com/datasets/pavansubhasht/ibm-hr-analytics-attrition-dataset)"
   ]
  },
  {
   "cell_type": "markdown",
   "id": "a34c477d",
   "metadata": {},
   "source": [
    "## Step 2: get to know the data at a high level\n",
    "- Histograms and .value_counts of our target variable and variables of interest\n",
    "- Determine if we have any missing values\n",
    "- General guideline: \n",
    "    - if you're looking at how x and y move together, we need to oeprate on the `train` dataset\n",
    "    - if you're doing any ML, split the data before exploring (exploring = looking at multiple variables together)\n",
    "- Check your datasource for a data dictionary: https://www.kaggle.com/datasets/pavansubhasht/ibm-hr-analytics-attrition-dataset\n",
    "- Check the value counts or a histogram of your target variable\n",
    "- Determine if there's any work to do on data types or processing/cleaning the data before handling datatypes\n",
    "- Check for nulls and handle them"
   ]
  },
  {
   "cell_type": "code",
   "execution_count": 1,
   "id": "ea675852",
   "metadata": {},
   "outputs": [],
   "source": [
    "import seaborn as sns\n",
    "import matplotlib.pyplot as plt\n",
    "import pandas as pd\n",
    "df = pd.read_csv(\"attrition.csv\")"
   ]
  },
  {
   "cell_type": "code",
   "execution_count": 2,
   "id": "bf591ef3",
   "metadata": {},
   "outputs": [
    {
     "data": {
      "text/html": [
       "<div>\n",
       "<style scoped>\n",
       "    .dataframe tbody tr th:only-of-type {\n",
       "        vertical-align: middle;\n",
       "    }\n",
       "\n",
       "    .dataframe tbody tr th {\n",
       "        vertical-align: top;\n",
       "    }\n",
       "\n",
       "    .dataframe thead th {\n",
       "        text-align: right;\n",
       "    }\n",
       "</style>\n",
       "<table border=\"1\" class=\"dataframe\">\n",
       "  <thead>\n",
       "    <tr style=\"text-align: right;\">\n",
       "      <th></th>\n",
       "      <th>0</th>\n",
       "      <th>1</th>\n",
       "    </tr>\n",
       "  </thead>\n",
       "  <tbody>\n",
       "    <tr>\n",
       "      <th>Age</th>\n",
       "      <td>41</td>\n",
       "      <td>49</td>\n",
       "    </tr>\n",
       "    <tr>\n",
       "      <th>Attrition</th>\n",
       "      <td>Yes</td>\n",
       "      <td>No</td>\n",
       "    </tr>\n",
       "    <tr>\n",
       "      <th>BusinessTravel</th>\n",
       "      <td>Travel_Rarely</td>\n",
       "      <td>Travel_Frequently</td>\n",
       "    </tr>\n",
       "    <tr>\n",
       "      <th>DailyRate</th>\n",
       "      <td>1102</td>\n",
       "      <td>279</td>\n",
       "    </tr>\n",
       "    <tr>\n",
       "      <th>Department</th>\n",
       "      <td>Sales</td>\n",
       "      <td>Research &amp; Development</td>\n",
       "    </tr>\n",
       "    <tr>\n",
       "      <th>DistanceFromHome</th>\n",
       "      <td>1</td>\n",
       "      <td>8</td>\n",
       "    </tr>\n",
       "    <tr>\n",
       "      <th>Education</th>\n",
       "      <td>2</td>\n",
       "      <td>1</td>\n",
       "    </tr>\n",
       "    <tr>\n",
       "      <th>EducationField</th>\n",
       "      <td>Life Sciences</td>\n",
       "      <td>Life Sciences</td>\n",
       "    </tr>\n",
       "    <tr>\n",
       "      <th>EmployeeCount</th>\n",
       "      <td>1</td>\n",
       "      <td>1</td>\n",
       "    </tr>\n",
       "    <tr>\n",
       "      <th>EmployeeNumber</th>\n",
       "      <td>1</td>\n",
       "      <td>2</td>\n",
       "    </tr>\n",
       "    <tr>\n",
       "      <th>EnvironmentSatisfaction</th>\n",
       "      <td>2</td>\n",
       "      <td>3</td>\n",
       "    </tr>\n",
       "    <tr>\n",
       "      <th>Gender</th>\n",
       "      <td>Female</td>\n",
       "      <td>Male</td>\n",
       "    </tr>\n",
       "    <tr>\n",
       "      <th>HourlyRate</th>\n",
       "      <td>94</td>\n",
       "      <td>61</td>\n",
       "    </tr>\n",
       "    <tr>\n",
       "      <th>JobInvolvement</th>\n",
       "      <td>3</td>\n",
       "      <td>2</td>\n",
       "    </tr>\n",
       "    <tr>\n",
       "      <th>JobLevel</th>\n",
       "      <td>2</td>\n",
       "      <td>2</td>\n",
       "    </tr>\n",
       "    <tr>\n",
       "      <th>JobRole</th>\n",
       "      <td>Sales Executive</td>\n",
       "      <td>Research Scientist</td>\n",
       "    </tr>\n",
       "    <tr>\n",
       "      <th>JobSatisfaction</th>\n",
       "      <td>4</td>\n",
       "      <td>2</td>\n",
       "    </tr>\n",
       "    <tr>\n",
       "      <th>MaritalStatus</th>\n",
       "      <td>Single</td>\n",
       "      <td>Married</td>\n",
       "    </tr>\n",
       "    <tr>\n",
       "      <th>MonthlyIncome</th>\n",
       "      <td>5993</td>\n",
       "      <td>5130</td>\n",
       "    </tr>\n",
       "    <tr>\n",
       "      <th>MonthlyRate</th>\n",
       "      <td>19479</td>\n",
       "      <td>24907</td>\n",
       "    </tr>\n",
       "    <tr>\n",
       "      <th>NumCompaniesWorked</th>\n",
       "      <td>8</td>\n",
       "      <td>1</td>\n",
       "    </tr>\n",
       "    <tr>\n",
       "      <th>Over18</th>\n",
       "      <td>Y</td>\n",
       "      <td>Y</td>\n",
       "    </tr>\n",
       "    <tr>\n",
       "      <th>OverTime</th>\n",
       "      <td>Yes</td>\n",
       "      <td>No</td>\n",
       "    </tr>\n",
       "    <tr>\n",
       "      <th>PercentSalaryHike</th>\n",
       "      <td>11</td>\n",
       "      <td>23</td>\n",
       "    </tr>\n",
       "    <tr>\n",
       "      <th>PerformanceRating</th>\n",
       "      <td>3</td>\n",
       "      <td>4</td>\n",
       "    </tr>\n",
       "    <tr>\n",
       "      <th>RelationshipSatisfaction</th>\n",
       "      <td>1</td>\n",
       "      <td>4</td>\n",
       "    </tr>\n",
       "    <tr>\n",
       "      <th>StandardHours</th>\n",
       "      <td>80</td>\n",
       "      <td>80</td>\n",
       "    </tr>\n",
       "    <tr>\n",
       "      <th>StockOptionLevel</th>\n",
       "      <td>0</td>\n",
       "      <td>1</td>\n",
       "    </tr>\n",
       "    <tr>\n",
       "      <th>TotalWorkingYears</th>\n",
       "      <td>8</td>\n",
       "      <td>10</td>\n",
       "    </tr>\n",
       "    <tr>\n",
       "      <th>TrainingTimesLastYear</th>\n",
       "      <td>0</td>\n",
       "      <td>3</td>\n",
       "    </tr>\n",
       "    <tr>\n",
       "      <th>WorkLifeBalance</th>\n",
       "      <td>1</td>\n",
       "      <td>3</td>\n",
       "    </tr>\n",
       "    <tr>\n",
       "      <th>YearsAtCompany</th>\n",
       "      <td>6</td>\n",
       "      <td>10</td>\n",
       "    </tr>\n",
       "    <tr>\n",
       "      <th>YearsInCurrentRole</th>\n",
       "      <td>4</td>\n",
       "      <td>7</td>\n",
       "    </tr>\n",
       "    <tr>\n",
       "      <th>YearsSinceLastPromotion</th>\n",
       "      <td>0</td>\n",
       "      <td>1</td>\n",
       "    </tr>\n",
       "    <tr>\n",
       "      <th>YearsWithCurrManager</th>\n",
       "      <td>5</td>\n",
       "      <td>7</td>\n",
       "    </tr>\n",
       "  </tbody>\n",
       "</table>\n",
       "</div>"
      ],
      "text/plain": [
       "                                        0                       1\n",
       "Age                                    41                      49\n",
       "Attrition                             Yes                      No\n",
       "BusinessTravel              Travel_Rarely       Travel_Frequently\n",
       "DailyRate                            1102                     279\n",
       "Department                          Sales  Research & Development\n",
       "DistanceFromHome                        1                       8\n",
       "Education                               2                       1\n",
       "EducationField              Life Sciences           Life Sciences\n",
       "EmployeeCount                           1                       1\n",
       "EmployeeNumber                          1                       2\n",
       "EnvironmentSatisfaction                 2                       3\n",
       "Gender                             Female                    Male\n",
       "HourlyRate                             94                      61\n",
       "JobInvolvement                          3                       2\n",
       "JobLevel                                2                       2\n",
       "JobRole                   Sales Executive      Research Scientist\n",
       "JobSatisfaction                         4                       2\n",
       "MaritalStatus                      Single                 Married\n",
       "MonthlyIncome                        5993                    5130\n",
       "MonthlyRate                         19479                   24907\n",
       "NumCompaniesWorked                      8                       1\n",
       "Over18                                  Y                       Y\n",
       "OverTime                              Yes                      No\n",
       "PercentSalaryHike                      11                      23\n",
       "PerformanceRating                       3                       4\n",
       "RelationshipSatisfaction                1                       4\n",
       "StandardHours                          80                      80\n",
       "StockOptionLevel                        0                       1\n",
       "TotalWorkingYears                       8                      10\n",
       "TrainingTimesLastYear                   0                       3\n",
       "WorkLifeBalance                         1                       3\n",
       "YearsAtCompany                          6                      10\n",
       "YearsInCurrentRole                      4                       7\n",
       "YearsSinceLastPromotion                 0                       1\n",
       "YearsWithCurrManager                    5                       7"
      ]
     },
     "execution_count": 2,
     "metadata": {},
     "output_type": "execute_result"
    }
   ],
   "source": [
    "# Print out the first few records\n",
    "# I chose to do a transpose since there were too many columns to show at once\n",
    "df.head(2).T"
   ]
  },
  {
   "cell_type": "code",
   "execution_count": 3,
   "id": "8f55e6ce",
   "metadata": {},
   "outputs": [
    {
     "data": {
      "text/plain": [
       "<AxesSubplot:>"
      ]
     },
     "execution_count": 3,
     "metadata": {},
     "output_type": "execute_result"
    },
    {
     "data": {
      "image/png": "[encoded data removed]",
      "text/plain": [
       "<Figure size 432x288 with 1 Axes>"
      ]
     },
     "metadata": {
      "needs_background": "light"
     },
     "output_type": "display_data"
    }
   ],
   "source": [
    "# Our target variable is attrition, so let's get a value_count or historam of our target variable\n",
    "df.Attrition.hist()"
   ]
  },
  {
   "cell_type": "code",
   "execution_count": 4,
   "id": "1390cfbb",
   "metadata": {},
   "outputs": [
    {
     "data": {
      "text/plain": [
       "No     1233\n",
       "Yes     237\n",
       "Name: Attrition, dtype: int64"
      ]
     },
     "execution_count": 4,
     "metadata": {},
     "output_type": "execute_result"
    }
   ],
   "source": [
    "# Let's show the numbers\n",
    "df.Attrition.value_counts()"
   ]
  },
  {
   "cell_type": "code",
   "execution_count": 5,
   "id": "98fadd19",
   "metadata": {},
   "outputs": [
    {
     "data": {
      "text/plain": [
       "0.16122448979591836"
      ]
     },
     "execution_count": 5,
     "metadata": {},
     "output_type": "execute_result"
    }
   ],
   "source": [
    "# What's the proportion of attrition?\n",
    "# Ok, what's the industry attrition\n",
    "# https://www.applauz.me/resources/how-to-calculate-employee-turnover#:~:text=According%20to%20recruiting%20giant%20Monster,turnover%20rate%20across%20the%20board.\n",
    "# If \"healthy\" attrition is 10%\n",
    "# Takeaway: This company has 60% more attrition than what's considered healthy/good\n",
    "df[df.Attrition == \"Yes\"].shape[0] / df.shape[0]"
   ]
  },
  {
   "cell_type": "code",
   "execution_count": 6,
   "id": "6a5899c0",
   "metadata": {},
   "outputs": [
    {
     "name": "stdout",
     "output_type": "stream",
     "text": [
      "<class 'pandas.core.frame.DataFrame'>\n",
      "RangeIndex: 1470 entries, 0 to 1469\n",
      "Data columns (total 35 columns):\n",
      " #   Column                    Non-Null Count  Dtype \n",
      "---  ------                    --------------  ----- \n",
      " 0   Age                       1470 non-null   int64 \n",
      " 1   Attrition                 1470 non-null   object\n",
      " 2   BusinessTravel            1470 non-null   object\n",
      " 3   DailyRate                 1470 non-null   int64 \n",
      " 4   Department                1470 non-null   object\n",
      " 5   DistanceFromHome          1470 non-null   int64 \n",
      " 6   Education                 1470 non-null   int64 \n",
      " 7   EducationField            1470 non-null   object\n",
      " 8   EmployeeCount             1470 non-null   int64 \n",
      " 9   EmployeeNumber            1470 non-null   int64 \n",
      " 10  EnvironmentSatisfaction   1470 non-null   int64 \n",
      " 11  Gender                    1470 non-null   object\n",
      " 12  HourlyRate                1470 non-null   int64 \n",
      " 13  JobInvolvement            1470 non-null   int64 \n",
      " 14  JobLevel                  1470 non-null   int64 \n",
      " 15  JobRole                   1470 non-null   object\n",
      " 16  JobSatisfaction           1470 non-null   int64 \n",
      " 17  MaritalStatus             1470 non-null   object\n",
      " 18  MonthlyIncome             1470 non-null   int64 \n",
      " 19  MonthlyRate               1470 non-null   int64 \n",
      " 20  NumCompaniesWorked        1470 non-null   int64 \n",
      " 21  Over18                    1470 non-null   object\n",
      " 22  OverTime                  1470 non-null   object\n",
      " 23  PercentSalaryHike         1470 non-null   int64 \n",
      " 24  PerformanceRating         1470 non-null   int64 \n",
      " 25  RelationshipSatisfaction  1470 non-null   int64 \n",
      " 26  StandardHours             1470 non-null   int64 \n",
      " 27  StockOptionLevel          1470 non-null   int64 \n",
      " 28  TotalWorkingYears         1470 non-null   int64 \n",
      " 29  TrainingTimesLastYear     1470 non-null   int64 \n",
      " 30  WorkLifeBalance           1470 non-null   int64 \n",
      " 31  YearsAtCompany            1470 non-null   int64 \n",
      " 32  YearsInCurrentRole        1470 non-null   int64 \n",
      " 33  YearsSinceLastPromotion   1470 non-null   int64 \n",
      " 34  YearsWithCurrManager      1470 non-null   int64 \n",
      "dtypes: int64(26), object(9)\n",
      "memory usage: 402.1+ KB\n"
     ]
    }
   ],
   "source": [
    "# We can run df.info() to check for nulls and datatypes\n",
    "# Nice to know: our data types check out and we don't have any nulls to worry about\n",
    "df.info()"
   ]
  },
  {
   "cell_type": "code",
   "execution_count": 7,
   "id": "46d56039",
   "metadata": {},
   "outputs": [
    {
     "data": {
      "text/plain": [
       "237"
      ]
     },
     "execution_count": 7,
     "metadata": {},
     "output_type": "execute_result"
    }
   ],
   "source": [
    "# How many people left?\n",
    "(df.Attrition == \"Yes\").sum()"
   ]
  },
  {
   "cell_type": "code",
   "execution_count": 8,
   "id": "765a5360",
   "metadata": {},
   "outputs": [
    {
     "data": {
      "text/plain": [
       "13614492"
      ]
     },
     "execution_count": 8,
     "metadata": {},
     "output_type": "execute_result"
    }
   ],
   "source": [
    "# Business saves this money if people leave\n",
    "(df[df.Attrition == \"Yes\"].MonthlyIncome.sum() * 12)"
   ]
  },
  {
   "cell_type": "code",
   "execution_count": 9,
   "id": "54c9ebeb",
   "metadata": {},
   "outputs": [
    {
     "data": {
      "text/plain": [
       "8168695.199999999"
      ]
     },
     "execution_count": 9,
     "metadata": {},
     "output_type": "execute_result"
    }
   ],
   "source": [
    "# Quantify the cost of our lost employees\n",
    "# https://www.peoplekeep.com/blog/employee-retention-the-real-cost-of-losing-an-employee#:~:text=The%20cost%20of%20employee%20turnover%20is%20high&text=Some%20studies%20predict%20that%20every,wage%20and%20role%20of%20employee.\n",
    "# Let's assume 60% of salary to replace employees\n",
    "(df[df.Attrition == \"Yes\"].MonthlyIncome.sum() * 12) * .6"
   ]
  },
  {
   "cell_type": "markdown",
   "id": "aba6ae54",
   "metadata": {},
   "source": [
    "## Takeaways So Far:\n",
    "- Attrition is 60% above a healthy level of 10%\n",
    "- It may cost at least $8m to replace 237 employees who left"
   ]
  },
  {
   "cell_type": "markdown",
   "id": "7ef1336a",
   "metadata": {},
   "source": [
    "## Step 3: Answer your initial hypotheses questions with visuals and statistics (write down takeaways as you go)\n",
    "- If we were doing any ML, we would split our data and only explore `train` instead of the entire dataset at this stage.\n",
    "- Exploring the dataset means understanding and interogating the relationships between variables and the target\n",
    "- Use descriptive stats, visuals, hypothesis tests\n",
    "- Visualize average monthly income to attrition\n",
    "- Visualize job satisfaction numbers to attrition\n",
    "- Sometimes a few stats tell the story, othertimes we need a handful of charts"
   ]
  },
  {
   "cell_type": "code",
   "execution_count": 10,
   "id": "4d9876fc",
   "metadata": {},
   "outputs": [
    {
     "data": {
      "text/plain": [
       "<AxesSubplot:xlabel='Attrition', ylabel='MonthlyIncome'>"
      ]
     },
     "execution_count": 10,
     "metadata": {},
     "output_type": "execute_result"
    },
    {
     "data": {
      "image/png": "[encoded data removed]",
      "text/plain": [
       "<Figure size 432x288 with 1 Axes>"
      ]
     },
     "metadata": {
      "needs_background": "light"
     },
     "output_type": "display_data"
    }
   ],
   "source": [
    "# Barplots show average and we can specify categories\n",
    "sns.barplot(x=\"Attrition\", y=\"MonthlyIncome\", data=df)"
   ]
  },
  {
   "cell_type": "code",
   "execution_count": 11,
   "id": "871084d4",
   "metadata": {},
   "outputs": [
    {
     "data": {
      "text/plain": [
       "<AxesSubplot:xlabel='Attrition', ylabel='MonthlyIncome'>"
      ]
     },
     "execution_count": 11,
     "metadata": {},
     "output_type": "execute_result"
    },
    {
     "data": {
      "image/png": "[encoded data removed]",
      "text/plain": [
       "<Figure size 432x288 with 1 Axes>"
      ]
     },
     "metadata": {
      "needs_background": "light"
     },
     "output_type": "display_data"
    }
   ],
   "source": [
    "# Boxplots show the median in the middle of the box\n",
    "# Lower bound of the box is Q1, upper bound of the box is the 3rd quartile\n",
    "sns.boxplot(x=\"Attrition\", y=\"MonthlyIncome\", data=df)"
   ]
  },
  {
   "cell_type": "markdown",
   "id": "bc491fe5",
   "metadata": {},
   "source": [
    "## Listing Takeaways so far:\n",
    "- Average and median and most incomes for folks who left are lower than folks who stayed\n",
    "- Of folks who left, we have a larger proportion of single folks.\n",
    "- Of the folks who stayed, we have a larger proportion of married employees\n"
   ]
  },
  {
   "cell_type": "code",
   "execution_count": 12,
   "id": "87cc8729",
   "metadata": {},
   "outputs": [],
   "source": [
    "# Does marital status have anything to do with attrition?\n",
    "lost = df[df.Attrition == \"Yes\"]\n",
    "kept = df[df.Attrition == \"No\"]"
   ]
  },
  {
   "cell_type": "code",
   "execution_count": 13,
   "id": "25850532",
   "metadata": {},
   "outputs": [
    {
     "data": {
      "text/plain": [
       "<AxesSubplot:>"
      ]
     },
     "execution_count": 13,
     "metadata": {},
     "output_type": "execute_result"
    },
    {
     "data": {
      "image/png": "[encoded data removed]",
      "text/plain": [
       "<Figure size 432x288 with 1 Axes>"
      ]
     },
     "metadata": {
      "needs_background": "light"
     },
     "output_type": "display_data"
    }
   ],
   "source": [
    "lost.MaritalStatus.hist()"
   ]
  },
  {
   "cell_type": "code",
   "execution_count": 14,
   "id": "45879e12",
   "metadata": {},
   "outputs": [
    {
     "data": {
      "text/plain": [
       "<AxesSubplot:>"
      ]
     },
     "execution_count": 14,
     "metadata": {},
     "output_type": "execute_result"
    },
    {
     "data": {
      "image/png": "[encoded data removed]",
      "text/plain": [
       "<Figure size 432x288 with 1 Axes>"
      ]
     },
     "metadata": {
      "needs_background": "light"
     },
     "output_type": "display_data"
    }
   ],
   "source": [
    "kept.MaritalStatus.hist()"
   ]
  },
  {
   "cell_type": "code",
   "execution_count": 15,
   "id": "b24cb488",
   "metadata": {},
   "outputs": [
    {
     "data": {
      "text/plain": [
       "Male      732\n",
       "Female    501\n",
       "Name: Gender, dtype: int64"
      ]
     },
     "execution_count": 15,
     "metadata": {},
     "output_type": "execute_result"
    }
   ],
   "source": [
    "# What's the relationship between gender and attrition\n",
    "kept.Gender.value_counts()"
   ]
  },
  {
   "cell_type": "code",
   "execution_count": 16,
   "id": "5c8a31d2",
   "metadata": {},
   "outputs": [
    {
     "data": {
      "text/plain": [
       "0.40632603406326034"
      ]
     },
     "execution_count": 16,
     "metadata": {},
     "output_type": "execute_result"
    }
   ],
   "source": [
    "# Proportion of women employees staying\n",
    "501 / (kept.shape[0])"
   ]
  },
  {
   "cell_type": "code",
   "execution_count": 17,
   "id": "beff2600",
   "metadata": {},
   "outputs": [
    {
     "data": {
      "text/plain": [
       "Male      150\n",
       "Female     87\n",
       "Name: Gender, dtype: int64"
      ]
     },
     "execution_count": 17,
     "metadata": {},
     "output_type": "execute_result"
    }
   ],
   "source": [
    "lost.Gender.value_counts()"
   ]
  },
  {
   "cell_type": "code",
   "execution_count": 18,
   "id": "55189e15",
   "metadata": {},
   "outputs": [
    {
     "data": {
      "text/plain": [
       "0.3670886075949367"
      ]
     },
     "execution_count": 18,
     "metadata": {},
     "output_type": "execute_result"
    }
   ],
   "source": [
    "# Proportion of women employees leaving\n",
    "87 / lost.shape[0]"
   ]
  },
  {
   "cell_type": "code",
   "execution_count": 19,
   "id": "e07bfc09",
   "metadata": {},
   "outputs": [
    {
     "data": {
      "text/plain": [
       "<seaborn.axisgrid.PairGrid at 0x7fe1fe9b87c0>"
      ]
     },
     "execution_count": 19,
     "metadata": {},
     "output_type": "execute_result"
    },
    {
     "data": {
      "image/png": "[encoded data removed]",
      "text/plain": [
       "<Figure size 360x360 with 6 Axes>"
      ]
     },
     "metadata": {
      "needs_background": "light"
     },
     "output_type": "display_data"
    }
   ],
   "source": [
    "# Think of pairplot as casting a VERY wide net for our numeric columns\n",
    "# If specific plots seem valuable/interesting, we'll make a .relplot for those variables\n",
    "# If we have columns that are rankings like 1, 2, 3, or 4 - we might do better to treat those at categories\n",
    "# Use pairplot sparingly if you have many columns (or reduce your columns to make more clear visual)\n",
    "# Discrete number or ordinal numbers often don't visually tell the story\n",
    "\n",
    "sns.pairplot(data=df[[\"MonthlyIncome\", \"Age\"]])"
   ]
  },
  {
   "cell_type": "code",
   "execution_count": 20,
   "id": "bbbd4715",
   "metadata": {},
   "outputs": [
    {
     "data": {
      "text/plain": [
       "<AxesSubplot:xlabel='Attrition', ylabel='MonthlyIncome'>"
      ]
     },
     "execution_count": 20,
     "metadata": {},
     "output_type": "execute_result"
    },
    {
     "data": {
      "image/png": "[encoded data removed]",
      "text/plain": [
       "<Figure size 432x288 with 1 Axes>"
      ]
     },
     "metadata": {
      "needs_background": "light"
     },
     "output_type": "display_data"
    }
   ],
   "source": [
    "# We could use Hue argument to add another dimension\n",
    "sns.boxplot(x=\"Attrition\", y=\"MonthlyIncome\", hue=\"MaritalStatus\", data=df)"
   ]
  },
  {
   "cell_type": "code",
   "execution_count": 21,
   "id": "31102986",
   "metadata": {},
   "outputs": [
    {
     "data": {
      "text/plain": [
       "<seaborn.axisgrid.FacetGrid at 0x7fe1fee51c70>"
      ]
     },
     "execution_count": 21,
     "metadata": {},
     "output_type": "execute_result"
    },
    {
     "data": {
      "image/png": "[encoded data removed]",
      "text/plain": [
       "<Figure size 720x360 with 2 Axes>"
      ]
     },
     "metadata": {
      "needs_background": "light"
     },
     "output_type": "display_data"
    }
   ],
   "source": [
    "# Can we add 3rd variables?\n",
    "sns.relplot(x=\"MonthlyIncome\", y=\"YearsInCurrentRole\", col=\"Attrition\", data=df)"
   ]
  },
  {
   "cell_type": "code",
   "execution_count": 22,
   "id": "f8d7507a",
   "metadata": {},
   "outputs": [
    {
     "data": {
      "text/plain": [
       "<AxesSubplot:xlabel='Attrition', ylabel='YearsInCurrentRole'>"
      ]
     },
     "execution_count": 22,
     "metadata": {},
     "output_type": "execute_result"
    },
    {
     "data": {
      "image/png": "[encoded data removed]",
      "text/plain": [
       "<Figure size 432x288 with 1 Axes>"
      ]
     },
     "metadata": {
      "needs_background": "light"
     },
     "output_type": "display_data"
    }
   ],
   "source": [
    "# Barplot shows averages\n",
    "sns.barplot(x=\"Attrition\", y=\"YearsInCurrentRole\", data=df)"
   ]
  },
  {
   "cell_type": "code",
   "execution_count": 23,
   "id": "28eb5ee2",
   "metadata": {},
   "outputs": [
    {
     "data": {
      "text/plain": [
       "<AxesSubplot:xlabel='Attrition', ylabel='YearsInCurrentRole'>"
      ]
     },
     "execution_count": 23,
     "metadata": {},
     "output_type": "execute_result"
    },
    {
     "data": {
      "image/png": "[encoded data removed]",
      "text/plain": [
       "<Figure size 432x288 with 1 Axes>"
      ]
     },
     "metadata": {
      "needs_background": "light"
     },
     "output_type": "display_data"
    }
   ],
   "source": [
    "# Boxplot shows distribution/spread\n",
    "sns.boxplot(x=\"Attrition\", y=\"YearsInCurrentRole\", data=df)"
   ]
  },
  {
   "cell_type": "code",
   "execution_count": 24,
   "id": "9a3440d0",
   "metadata": {},
   "outputs": [
    {
     "data": {
      "text/plain": [
       "<AxesSubplot:xlabel='Attrition', ylabel='YearsSinceLastPromotion'>"
      ]
     },
     "execution_count": 24,
     "metadata": {},
     "output_type": "execute_result"
    },
    {
     "data": {
      "image/png": "[encoded data removed]",
      "text/plain": [
       "<Figure size 432x288 with 1 Axes>"
      ]
     },
     "metadata": {
      "needs_background": "light"
     },
     "output_type": "display_data"
    }
   ],
   "source": [
    "sns.boxplot(x=\"Attrition\", y=\"YearsSinceLastPromotion\", data=df)"
   ]
  },
  {
   "cell_type": "markdown",
   "id": "89e8472f",
   "metadata": {},
   "source": [
    "## New Takeaways\n",
    "- Folks who stayed have been at the role longer than folks who left *this isn't a great takeaway. seems like one causes the other*\n",
    "- If this is all the time we have, let's focus on the most impactful pieces we found earlier"
   ]
  },
  {
   "cell_type": "code",
   "execution_count": null,
   "id": "68ae306e",
   "metadata": {},
   "outputs": [],
   "source": []
  }
 ],
 "metadata": {
  "kernelspec": {
   "display_name": "Python 3 (ipykernel)",
   "language": "python",
   "name": "python3"
  },
  "language_info": {
   "codemirror_mode": {
    "name": "ipython",
    "version": 3
   },
   "file_extension": ".py",
   "mimetype": "text/x-python",
   "name": "python",
   "nbconvert_exporter": "python",
   "pygments_lexer": "ipython3",
   "version": "3.8.12"
  }
 },
 "nbformat": 4,
 "nbformat_minor": 5
}
